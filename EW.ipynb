{
 "cells": [
  {
   "cell_type": "markdown",
   "metadata": {},
   "source": [
    "# Equal-weighted Portfolio"
   ]
  },
  {
   "cell_type": "code",
   "execution_count": 1,
   "metadata": {},
   "outputs": [],
   "source": [
    "#-----------------------------------------------------------------------------\n",
    "# Imports libraries and defines variables \n",
    "#-----------------------------------------------------------------------------\n",
    "\n",
    "# Imports libraries\n",
    "import numpy as np\n",
    "import pandas as pd\n",
    "import datetime\n",
    "import seaborn as sns\n",
    "\n",
    "# Parameters\n",
    "janela_retornos = 252\n",
    "janela_rebal = 126\n",
    "custo = 0.01\n",
    "\n",
    "# File Path\n",
    "str_dir = 'C:/Users/nelly/Desktop/Mestrado Insper/DISSERTAÇÃO/Dissertação/1. Modelo/'\n",
    "\n",
    "# Returns\n",
    "str_Retornos = 'Retornos'\n",
    "    \n",
    "df_Retornos = pd.read_csv(filepath_or_buffer = str_dir + str_Retornos + '.csv', sep=';')\n",
    "df_Retornos.index = df_Retornos['Data']\n",
    "df_Retornos = df_Retornos.drop(columns=['Data'])\n",
    "df_Retornos = df_Retornos.dropna()\n",
    "    \n",
    "df_Retornos['indice']=np.zeros(len(df_Retornos.index))"
   ]
  },
  {
   "cell_type": "code",
   "execution_count": 2,
   "metadata": {},
   "outputs": [
    {
     "data": {
      "image/png": "[encoded data removed]",
      "text/plain": [
       "<Figure size 432x288 with 1 Axes>"
      ]
     },
     "metadata": {
      "needs_background": "light"
     },
     "output_type": "display_data"
    }
   ],
   "source": [
    "#-----------------------------------------------------------------------------\n",
    "# Adjusts the dates formats and computes portfolio returns\n",
    "#-----------------------------------------------------------------------------\n",
    "\n",
    "# Adjusts the dates formats\n",
    "\n",
    "for x in range(0,len(df_Retornos.index)):\n",
    "    df_Retornos.iloc[x,len(df_Retornos.columns)-1] = datetime.datetime(df_Retornos.iloc[x,2],df_Retornos.iloc[x,1], df_Retornos.iloc[x,0])\n",
    "    \n",
    "df_Retornos = df_Retornos.drop(columns=['Day', 'Month', 'Year'])\n",
    "df_Retornos.index = df_Retornos['indice']\n",
    "df_Retornos = df_Retornos.drop(columns=['indice'])\n",
    "df_Retornos_disc = np.exp(df_Retornos) - 1\n",
    "\n",
    "# Computes portfolio returns\n",
    "\n",
    "n_stocks_total = len(df_Retornos.columns)\n",
    "df_weights = pd.DataFrame()\n",
    "t = 0\n",
    "T = len(df_Retornos)\n",
    "while t <= T:\n",
    "    df_Retornos_cum = df_Retornos.iloc[t:(t+janela_rebal),:].cumsum()\n",
    "    df_Retornos_cum_disc = np.exp(df_Retornos_cum)\n",
    "    df_weights = pd.concat([df_weights,df_Retornos_cum_disc.div(df_Retornos_cum_disc.sum(axis = 1), axis = 0)], axis = 0)\n",
    "    df_weights.iloc[t,:] = np.ones(n_stocks_total)/n_stocks_total\n",
    "    t = t + janela_rebal\n",
    "df_weights.index = df_weights.index\n",
    "\n",
    "df_Retornos_EW_disc = df_Retornos_disc[df_Retornos_disc.index.isin(df_weights.index)]\n",
    "\n",
    "#df_ret_port_EW_disc = (df_weights.shift(1).dropna() * df_Retornos_EW_disc.iloc[:-1,:]).sum(axis=1)\n",
    "df_ret_port_EW_disc = np.array(df_weights.iloc[:-1,:]) * np.array(df_Retornos_EW_disc.iloc[1:,:])\n",
    "df_ret_port_EW_disc = pd.DataFrame(data = df_ret_port_EW_disc).sum(axis=1)\n",
    "str_index = df_Retornos_EW_disc.iloc[1:,:].index\n",
    "\n",
    "df_ret_port_EW_disc = np.array(df_ret_port_EW_disc) - np.array(np.abs(df_weights.diff(1)).dropna().sum(axis=1)*custo)\n",
    "\n",
    "df_ret_port_EW_disc = pd.Series(data = df_ret_port_EW_disc, index = str_index)\n",
    "\n",
    "df_ret_port_EW = np.log(1+df_ret_port_EW_disc)\n",
    "\n",
    "sns.lineplot(data = np.exp(df_ret_port_EW.cumsum())-1)\n",
    "\n",
    "df_ret_port_EW.to_csv(str_dir + 'EW.csv')"
   ]
  },
  {
   "cell_type": "code",
   "execution_count": 3,
   "metadata": {
    "scrolled": true
   },
   "outputs": [
    {
     "data": {
      "text/plain": [
       "(2348, 34)"
      ]
     },
     "execution_count": 3,
     "metadata": {},
     "output_type": "execute_result"
    }
   ],
   "source": [
    "np.array(df_weights.iloc[:-1,:]).shape"
   ]
  },
  {
   "cell_type": "code",
   "execution_count": 4,
   "metadata": {},
   "outputs": [
    {
     "data": {
      "text/plain": [
       "(2348, 34)"
      ]
     },
     "execution_count": 4,
     "metadata": {},
     "output_type": "execute_result"
    }
   ],
   "source": [
    "(np.array(df_weights.iloc[:-1,:]) * np.array(df_Retornos_EW_disc.iloc[1:,:])).shape"
   ]
  },
  {
   "cell_type": "code",
   "execution_count": 5,
   "metadata": {},
   "outputs": [
    {
     "data": {
      "text/plain": [
       "(2348,)"
      ]
     },
     "execution_count": 5,
     "metadata": {},
     "output_type": "execute_result"
    }
   ],
   "source": [
    "np.array(np.abs(df_weights.diff(1)).dropna().sum(axis=1)*custo).shape"
   ]
  },
  {
   "cell_type": "code",
   "execution_count": 6,
   "metadata": {},
   "outputs": [
    {
     "data": {
      "text/plain": [
       "2348"
      ]
     },
     "execution_count": 6,
     "metadata": {},
     "output_type": "execute_result"
    }
   ],
   "source": [
    "len(str_index)"
   ]
  },
  {
   "cell_type": "code",
   "execution_count": 8,
   "metadata": {},
   "outputs": [
    {
     "data": {
      "text/plain": [
       "2348"
      ]
     },
     "execution_count": 8,
     "metadata": {},
     "output_type": "execute_result"
    }
   ],
   "source": [
    "len(df_ret_port_EW_disc)"
   ]
  }
 ],
 "metadata": {
  "kernelspec": {
   "display_name": "Python 3",
   "language": "python",
   "name": "python3"
  },
  "language_info": {
   "codemirror_mode": {
    "name": "ipython",
    "version": 3
   },
   "file_extension": ".py",
   "mimetype": "text/x-python",
   "name": "python",
   "nbconvert_exporter": "python",
   "pygments_lexer": "ipython3",
   "version": "3.7.6"
  }
 },
 "nbformat": 4,
 "nbformat_minor": 4
}
