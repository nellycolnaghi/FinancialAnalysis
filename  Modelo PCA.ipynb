{
 "cells": [
  {
   "cell_type": "markdown",
   "metadata": {},
   "source": [
    "## Modelo PCA | Indicadores Fundamentalistas"
   ]
  },
  {
   "cell_type": "code",
   "execution_count": 650,
   "metadata": {},
   "outputs": [],
   "source": [
    "import numpy as np\n",
    "import pandas as pd\n",
    "import scipy as sp\n",
    "from statsmodels.tsa.stattools import adfuller\n",
    "from statsmodels.graphics.tsaplots import plot_acf, plot_pacf\n",
    "from pykalman import KalmanFilter\n",
    "import matplotlib.pyplot as plt\n",
    "import seaborn as sns\n",
    "import scipy.optimize as opt\n",
    "from sklearn.decomposition import PCA\n",
    "import datetime"
   ]
  },
  {
   "cell_type": "code",
   "execution_count": 651,
   "metadata": {},
   "outputs": [],
   "source": [
    "thr = 1"
   ]
  },
  {
   "cell_type": "code",
   "execution_count": 652,
   "metadata": {},
   "outputs": [],
   "source": [
    "str_dir = 'C:/Users/nelly/Desktop/Mestrado Insper/DISSERTAÇÃO/Dissertação/1. Modelo/'"
   ]
  },
  {
   "cell_type": "code",
   "execution_count": 653,
   "metadata": {},
   "outputs": [],
   "source": [
    "str_pe_ratio_vale = 'PE_Ratio_Vale'\n",
    "\n",
    "df_PE_Ratio_Vale = pd.read_csv(filepath_or_buffer = str_dir + str_pe_ratio_vale + '.csv', sep=';')\n",
    "df_PE_Ratio_Vale.index = df_PE_Ratio_Vale['Data']\n",
    "df_PE_Ratio_Vale = df_PE_Ratio_Vale.drop(columns=['Data'])\n",
    "df_PE_Ratio_Vale = df_PE_Ratio_Vale.dropna()\n",
    "\n",
    "\n",
    "df_PE_Ratio_Vale['indice']=np.zeros(len(df_PE_Ratio_Vale.index))\n",
    "\n",
    "for x in range(0,len(df_PE_Ratio_Vale.index)):\n",
    "    df_PE_Ratio_Vale.iloc[x,4] = datetime.datetime(df_PE_Ratio_Vale.iloc[x,2],df_PE_Ratio_Vale.iloc[x,1], df_PE_Ratio_Vale.iloc[x,0])\n",
    "    \n",
    "\n",
    "df_PE_Ratio_Vale = df_PE_Ratio_Vale.drop(columns=['Date', 'Month', 'Year'])\n",
    "df_PE_Ratio_Vale.index = df_PE_Ratio_Vale['indice']\n",
    "df_PE_Ratio_Vale = df_PE_Ratio_Vale.drop(columns=['indice'])"
   ]
  },
  {
   "cell_type": "code",
   "execution_count": 655,
   "metadata": {},
   "outputs": [],
   "source": [
    "str_pb_ratio_vale = 'PB_Ratio_Vale'\n",
    "\n",
    "df_PB_Ratio_Vale = pd.read_csv(filepath_or_buffer = str_dir + str_pb_ratio_vale + '.csv', sep=';')\n",
    "df_PB_Ratio_Vale.index = df_PB_Ratio_Vale['Data']\n",
    "df_PB_Ratio_Vale = df_PB_Ratio_Vale.drop(columns=['Data'])\n",
    "df_PB_Ratio_Vale = df_PB_Ratio_Vale.dropna()\n",
    "\n",
    "df_PB_Ratio_Vale['indice']=np.zeros(len(df_PB_Ratio_Vale.index))\n",
    "\n",
    "for x in range(0,len(df_PB_Ratio_Vale.index)):\n",
    "    df_PB_Ratio_Vale.iloc[x,4] = datetime.datetime(df_PB_Ratio_Vale.iloc[x,2],df_PB_Ratio_Vale.iloc[x,1], df_PB_Ratio_Vale.iloc[x,0])\n",
    "    \n",
    "\n",
    "df_PB_Ratio_Vale = df_PB_Ratio_Vale.drop(columns=['Date', 'Month', 'Year'])\n",
    "df_PB_Ratio_Vale.index = df_PB_Ratio_Vale['indice']\n",
    "df_PB_Ratio_Vale = df_PB_Ratio_Vale.drop(columns=['indice'])"
   ]
  },
  {
   "cell_type": "code",
   "execution_count": 656,
   "metadata": {},
   "outputs": [],
   "source": [
    "str_ev_ebitda_vale = 'EV_EBITDA_Vale'\n",
    "\n",
    "df_EV_EBITDA_Vale = pd.read_csv(filepath_or_buffer = str_dir + str_ev_ebitda_vale + '.csv', sep=';')\n",
    "df_EV_EBITDA_Vale.index = df_EV_EBITDA_Vale['Data']\n",
    "df_EV_EBITDA_Vale = df_EV_EBITDA_Vale.drop(columns=['Data'])\n",
    "df_EV_EBITDA_Vale = df_EV_EBITDA_Vale.dropna()\n",
    "\n",
    "df_EV_EBITDA_Vale['indice']=np.zeros(len(df_EV_EBITDA_Vale.index))\n",
    "\n",
    "for x in range(0,len(df_EV_EBITDA_Vale.index)):\n",
    "    df_EV_EBITDA_Vale.iloc[x,4] = datetime.datetime(df_EV_EBITDA_Vale.iloc[x,2],df_EV_EBITDA_Vale.iloc[x,1], df_EV_EBITDA_Vale.iloc[x,0])\n",
    "    \n",
    "\n",
    "df_EV_EBITDA_Vale = df_EV_EBITDA_Vale.drop(columns=['Date', 'Month', 'Year'])\n",
    "df_EV_EBITDA_Vale.index = df_EV_EBITDA_Vale['indice']\n",
    "df_EV_EBITDA_Vale = df_EV_EBITDA_Vale.drop(columns=['indice'])"
   ]
  },
  {
   "cell_type": "code",
   "execution_count": 657,
   "metadata": {},
   "outputs": [],
   "source": [
    "str_ps_ratio_vale = 'PS_Vale'\n",
    "\n",
    "df_PS_Ratio_Vale = pd.read_csv(filepath_or_buffer = str_dir + str_ps_ratio_vale + '.csv', sep=';')\n",
    "df_PS_Ratio_Vale.index = df_PS_Ratio_Vale['Data']\n",
    "df_PS_Ratio_Vale = df_PS_Ratio_Vale.drop(columns=['Data'])\n",
    "df_PS_Ratio_Vale = df_PS_Ratio_Vale.dropna()\n",
    "\n",
    "df_PS_Ratio_Vale['indice']=np.zeros(len(df_PS_Ratio_Vale.index))\n",
    "\n",
    "for x in range(0,len(df_PS_Ratio_Vale.index)):\n",
    "    df_PS_Ratio_Vale.iloc[x,4] = datetime.datetime(df_PS_Ratio_Vale.iloc[x,2],df_PS_Ratio_Vale.iloc[x,1], df_PS_Ratio_Vale.iloc[x,0])\n",
    "    \n",
    "\n",
    "df_PS_Ratio_Vale = df_PS_Ratio_Vale.drop(columns=['Date', 'Month', 'Year'])\n",
    "df_PS_Ratio_Vale.index = df_PS_Ratio_Vale['indice']\n",
    "df_PS_Ratio_Vale = df_PS_Ratio_Vale.drop(columns=['indice'])"
   ]
  },
  {
   "cell_type": "code",
   "execution_count": 658,
   "metadata": {},
   "outputs": [],
   "source": [
    "str_ev_ebitda_petro = 'EV_EBITDA_Petro'\n",
    "\n",
    "df_EV_EBITDA_Petro = pd.read_csv(filepath_or_buffer = str_dir + str_ev_ebitda_petro + '.csv', sep=';')\n",
    "df_EV_EBITDA_Petro.index = df_EV_EBITDA_Petro['Data']\n",
    "df_EV_EBITDA_Petro = df_EV_EBITDA_Petro.drop(columns=['Data'])\n",
    "df_EV_EBITDA_Petro = df_EV_EBITDA_Petro.dropna()\n",
    "\n",
    "df_EV_EBITDA_Petro['indice']=np.zeros(len(df_EV_EBITDA_Petro.index))\n",
    "\n",
    "for x in range(0,len(df_EV_EBITDA_Petro.index)):\n",
    "    df_EV_EBITDA_Petro.iloc[x,4] = datetime.datetime(df_EV_EBITDA_Petro.iloc[x,2],df_EV_EBITDA_Petro.iloc[x,1], df_EV_EBITDA_Petro.iloc[x,0])\n",
    "    \n",
    "\n",
    "df_EV_EBITDA_Petro = df_EV_EBITDA_Petro.drop(columns=['Date', 'Month', 'Year'])\n",
    "df_EV_EBITDA_Petro.index = df_EV_EBITDA_Petro['indice']\n",
    "df_EV_EBITDA_Petro = df_EV_EBITDA_Petro.drop(columns=['indice'])"
   ]
  },
  {
   "cell_type": "code",
   "execution_count": 659,
   "metadata": {},
   "outputs": [],
   "source": [
    "str_ps_ratio_petro = 'PS_Petro'\n",
    "\n",
    "df_PS_Ratio_Petro = pd.read_csv(filepath_or_buffer = str_dir + str_ps_ratio_petro + '.csv', sep=';')\n",
    "df_PS_Ratio_Petro.index = df_PS_Ratio_Petro['Data']\n",
    "df_PS_Ratio_Petro = df_PS_Ratio_Petro.drop(columns=['Data'])\n",
    "df_PS_Ratio_Petro = df_PS_Ratio_Petro.dropna()\n",
    "\n",
    "df_PS_Ratio_Petro['indice']=np.zeros(len(df_PS_Ratio_Petro.index))\n",
    "\n",
    "for x in range(0,len(df_PS_Ratio_Petro.index)):\n",
    "    df_PS_Ratio_Petro.iloc[x,4] = datetime.datetime(df_PS_Ratio_Petro.iloc[x,2],df_PS_Ratio_Petro.iloc[x,1], df_PS_Ratio_Petro.iloc[x,0])\n",
    "    \n",
    "\n",
    "df_PS_Ratio_Petro = df_PS_Ratio_Petro.drop(columns=['Date', 'Month', 'Year'])\n",
    "df_PS_Ratio_Petro.index = df_PS_Ratio_Petro['indice']\n",
    "df_PS_Ratio_Petro = df_PS_Ratio_Petro.drop(columns=['indice'])"
   ]
  },
  {
   "cell_type": "code",
   "execution_count": 660,
   "metadata": {},
   "outputs": [],
   "source": [
    "str_pe_ratio_petro = 'PE_Ratio_Petro'\n",
    "\n",
    "df_PE_Ratio_Petro = pd.read_csv(filepath_or_buffer = str_dir + str_pe_ratio_petro + '.csv', sep=';')\n",
    "df_PE_Ratio_Petro.index = df_PE_Ratio_Petro['Data']\n",
    "df_PE_Ratio_Petro = df_PE_Ratio_Petro.drop(columns=['Data'])\n",
    "df_PE_Ratio_Petro = df_PE_Ratio_Petro.dropna()\n",
    "\n",
    "df_PE_Ratio_Petro['indice']=np.zeros(len(df_PE_Ratio_Petro.index))\n",
    "\n",
    "for x in range(0,len(df_PE_Ratio_Petro.index)):\n",
    "    df_PE_Ratio_Petro.iloc[x,4] = datetime.datetime(df_PE_Ratio_Petro.iloc[x,2],df_PE_Ratio_Petro.iloc[x,1], df_PE_Ratio_Petro.iloc[x,0])\n",
    "    \n",
    "\n",
    "df_PE_Ratio_Petro = df_PE_Ratio_Petro.drop(columns=['Date', 'Month', 'Year'])\n",
    "df_PE_Ratio_Petro.index = df_PE_Ratio_Petro['indice']\n",
    "df_PE_Ratio_Petro = df_PE_Ratio_Petro.drop(columns=['indice'])"
   ]
  },
  {
   "cell_type": "code",
   "execution_count": 661,
   "metadata": {},
   "outputs": [],
   "source": [
    "str_pb_ratio_petro = 'PB_Ratio_Petro'\n",
    "\n",
    "df_PB_Ratio_Petro = pd.read_csv(filepath_or_buffer = str_dir + str_pb_ratio_petro + '.csv', sep=';')\n",
    "df_PB_Ratio_Petro.index = df_PB_Ratio_Petro['Data']\n",
    "df_PB_Ratio_Petro = df_PB_Ratio_Petro.drop(columns=['Data'])\n",
    "df_PB_Ratio_Petro = df_PB_Ratio_Petro.dropna()\n",
    "\n",
    "df_PB_Ratio_Petro['indice']=np.zeros(len(df_PB_Ratio_Petro.index))\n",
    "\n",
    "for x in range(0,len(df_PB_Ratio_Petro.index)):\n",
    "    df_PB_Ratio_Petro.iloc[x,4] = datetime.datetime(df_PB_Ratio_Petro.iloc[x,2],df_PB_Ratio_Petro.iloc[x,1], df_PB_Ratio_Petro.iloc[x,0])\n",
    "    \n",
    "\n",
    "df_PB_Ratio_Petro = df_PB_Ratio_Petro.drop(columns=['Date', 'Month', 'Year'])\n",
    "df_PB_Ratio_Petro.index = df_PB_Ratio_Petro['indice']\n",
    "df_PB_Ratio_Petro = df_PB_Ratio_Petro.drop(columns=['indice'])"
   ]
  },
  {
   "cell_type": "code",
   "execution_count": 665,
   "metadata": {},
   "outputs": [],
   "source": [
    "indic_vale = pd.concat([df_PE_Ratio_Vale,df_PB_Ratio_Vale,df_EV_EBITDA_Vale,df_PS_Ratio_Vale],axis=1)"
   ]
  },
  {
   "cell_type": "code",
   "execution_count": 666,
   "metadata": {},
   "outputs": [],
   "source": [
    "indic_petro = pd.concat([df_PE_Ratio_Petro,df_PB_Ratio_Petro,df_EV_EBITDA_Petro,df_PS_Ratio_Petro],axis=1)"
   ]
  },
  {
   "cell_type": "code",
   "execution_count": 667,
   "metadata": {},
   "outputs": [],
   "source": [
    "zscores_vale = ((indic_vale-indic_vale.mean())/indic_vale.std()).dropna()"
   ]
  },
  {
   "cell_type": "code",
   "execution_count": 668,
   "metadata": {},
   "outputs": [],
   "source": [
    "zscores_petro = ((indic_petro-indic_petro.mean())/indic_petro.std()).dropna()"
   ]
  },
  {
   "cell_type": "code",
   "execution_count": 669,
   "metadata": {},
   "outputs": [],
   "source": [
    "n_comp = 2\n",
    "pca = PCA(n_components=n_comp)\n",
    "PCAFactors_vale = pd.DataFrame(index=zscores_vale.dropna().index,\n",
    "                 columns=['PC' + str(x) for x in range(1,n_comp+1)],\n",
    "                 data=pca.fit_transform(zscores_vale.dropna().values))"
   ]
  },
  {
   "cell_type": "code",
   "execution_count": 670,
   "metadata": {},
   "outputs": [],
   "source": [
    "def pca_decomp(X, threshold):\n",
    "    \n",
    "    # Runs PCA for the maximum number of components possible\n",
    "    n_series = X.shape[1]\n",
    "    pca = PCA(n_components = n_series, svd_solver = 'full')\n",
    "    pca.fit(X)\n",
    "    \n",
    "    # Selects the number of PCs required for explained variance > threshold\n",
    "    total_var = 0\n",
    "    n_comp = 0\n",
    "    for var in pca.explained_variance_ratio_:\n",
    "        total_var = var + total_var\n",
    "        n_comp = n_comp + 1\n",
    "        if total_var > threshold:\n",
    "            break\n",
    "    \n",
    "    # Runs PCA for the number of components selected\n",
    "    pca = PCA(n_components = n_comp, svd_solver = 'full')\n",
    "    pca.fit(X)\n",
    "    \n",
    "    # Applies transformation to training data\n",
    "    X_pca = pca.transform(X)\n",
    "    X_pca = X_pca.reshape(X_pca.shape[0], n_comp)\n",
    "    X_pca = pd.DataFrame(data = X_pca, \n",
    "                           index = X.index, \n",
    "                           columns = [\"PC\" + str(i) for i in np.arange(0,n_comp)])\n",
    "\n",
    "    # Correlation matrix\n",
    "    X_pca.corr()\n",
    "    \n",
    "    return X_pca"
   ]
  },
  {
   "cell_type": "code",
   "execution_count": 671,
   "metadata": {},
   "outputs": [
    {
     "data": {
      "text/html": [
       "<div>\n",
       "<style scoped>\n",
       "    .dataframe tbody tr th:only-of-type {\n",
       "        vertical-align: middle;\n",
       "    }\n",
       "\n",
       "    .dataframe tbody tr th {\n",
       "        vertical-align: top;\n",
       "    }\n",
       "\n",
       "    .dataframe thead th {\n",
       "        text-align: right;\n",
       "    }\n",
       "</style>\n",
       "<table border=\"1\" class=\"dataframe\">\n",
       "  <thead>\n",
       "    <tr style=\"text-align: right;\">\n",
       "      <th></th>\n",
       "      <th>PC0</th>\n",
       "      <th>PC1</th>\n",
       "      <th>PC2</th>\n",
       "      <th>PC3</th>\n",
       "    </tr>\n",
       "    <tr>\n",
       "      <th>indice</th>\n",
       "      <th></th>\n",
       "      <th></th>\n",
       "      <th></th>\n",
       "      <th></th>\n",
       "    </tr>\n",
       "  </thead>\n",
       "  <tbody>\n",
       "    <tr>\n",
       "      <th>2014-01-02</th>\n",
       "      <td>1347.296262</td>\n",
       "      <td>0.237011</td>\n",
       "      <td>0.419935</td>\n",
       "      <td>0.147902</td>\n",
       "    </tr>\n",
       "    <tr>\n",
       "      <th>2014-01-03</th>\n",
       "      <td>1303.796423</td>\n",
       "      <td>0.084465</td>\n",
       "      <td>0.349305</td>\n",
       "      <td>0.130673</td>\n",
       "    </tr>\n",
       "    <tr>\n",
       "      <th>2014-01-06</th>\n",
       "      <td>1315.996382</td>\n",
       "      <td>0.128772</td>\n",
       "      <td>0.336077</td>\n",
       "      <td>0.081138</td>\n",
       "    </tr>\n",
       "    <tr>\n",
       "      <th>2014-01-07</th>\n",
       "      <td>1279.496524</td>\n",
       "      <td>-0.013042</td>\n",
       "      <td>0.314817</td>\n",
       "      <td>0.105228</td>\n",
       "    </tr>\n",
       "    <tr>\n",
       "      <th>2014-01-08</th>\n",
       "      <td>1289.496490</td>\n",
       "      <td>0.025793</td>\n",
       "      <td>0.296384</td>\n",
       "      <td>0.067839</td>\n",
       "    </tr>\n",
       "    <tr>\n",
       "      <th>...</th>\n",
       "      <td>...</td>\n",
       "      <td>...</td>\n",
       "      <td>...</td>\n",
       "      <td>...</td>\n",
       "    </tr>\n",
       "    <tr>\n",
       "      <th>2020-08-10</th>\n",
       "      <td>-112.706315</td>\n",
       "      <td>1.609338</td>\n",
       "      <td>0.582691</td>\n",
       "      <td>0.161126</td>\n",
       "    </tr>\n",
       "    <tr>\n",
       "      <th>2020-08-11</th>\n",
       "      <td>-114.306019</td>\n",
       "      <td>1.356014</td>\n",
       "      <td>0.556937</td>\n",
       "      <td>0.240819</td>\n",
       "    </tr>\n",
       "    <tr>\n",
       "      <th>2020-08-12</th>\n",
       "      <td>-113.306205</td>\n",
       "      <td>1.517167</td>\n",
       "      <td>0.561430</td>\n",
       "      <td>0.166059</td>\n",
       "    </tr>\n",
       "    <tr>\n",
       "      <th>2020-08-13</th>\n",
       "      <td>-114.206030</td>\n",
       "      <td>1.365347</td>\n",
       "      <td>0.553988</td>\n",
       "      <td>0.215677</td>\n",
       "    </tr>\n",
       "    <tr>\n",
       "      <th>2020-08-14</th>\n",
       "      <td>-113.406180</td>\n",
       "      <td>1.497412</td>\n",
       "      <td>0.553703</td>\n",
       "      <td>0.173014</td>\n",
       "    </tr>\n",
       "  </tbody>\n",
       "</table>\n",
       "<p>1638 rows × 4 columns</p>\n",
       "</div>"
      ],
      "text/plain": [
       "                    PC0       PC1       PC2       PC3\n",
       "indice                                               \n",
       "2014-01-02  1347.296262  0.237011  0.419935  0.147902\n",
       "2014-01-03  1303.796423  0.084465  0.349305  0.130673\n",
       "2014-01-06  1315.996382  0.128772  0.336077  0.081138\n",
       "2014-01-07  1279.496524 -0.013042  0.314817  0.105228\n",
       "2014-01-08  1289.496490  0.025793  0.296384  0.067839\n",
       "...                 ...       ...       ...       ...\n",
       "2020-08-10  -112.706315  1.609338  0.582691  0.161126\n",
       "2020-08-11  -114.306019  1.356014  0.556937  0.240819\n",
       "2020-08-12  -113.306205  1.517167  0.561430  0.166059\n",
       "2020-08-13  -114.206030  1.365347  0.553988  0.215677\n",
       "2020-08-14  -113.406180  1.497412  0.553703  0.173014\n",
       "\n",
       "[1638 rows x 4 columns]"
      ]
     },
     "execution_count": 671,
     "metadata": {},
     "output_type": "execute_result"
    }
   ],
   "source": [
    "X_pca_vale = pca_decomp(indic_vale, thr)\n",
    "X_pca_vale"
   ]
  },
  {
   "cell_type": "code",
   "execution_count": 672,
   "metadata": {},
   "outputs": [
    {
     "data": {
      "text/html": [
       "<div>\n",
       "<style scoped>\n",
       "    .dataframe tbody tr th:only-of-type {\n",
       "        vertical-align: middle;\n",
       "    }\n",
       "\n",
       "    .dataframe tbody tr th {\n",
       "        vertical-align: top;\n",
       "    }\n",
       "\n",
       "    .dataframe thead th {\n",
       "        text-align: right;\n",
       "    }\n",
       "</style>\n",
       "<table border=\"1\" class=\"dataframe\">\n",
       "  <thead>\n",
       "    <tr style=\"text-align: right;\">\n",
       "      <th></th>\n",
       "      <th>PC0</th>\n",
       "      <th>PC1</th>\n",
       "      <th>PC2</th>\n",
       "      <th>PC3</th>\n",
       "    </tr>\n",
       "    <tr>\n",
       "      <th>indice</th>\n",
       "      <th></th>\n",
       "      <th></th>\n",
       "      <th></th>\n",
       "      <th></th>\n",
       "    </tr>\n",
       "  </thead>\n",
       "  <tbody>\n",
       "    <tr>\n",
       "      <th>2014-01-02</th>\n",
       "      <td>-8.533005</td>\n",
       "      <td>-7.128054</td>\n",
       "      <td>-0.224367</td>\n",
       "      <td>-0.084177</td>\n",
       "    </tr>\n",
       "    <tr>\n",
       "      <th>2014-01-03</th>\n",
       "      <td>-8.723426</td>\n",
       "      <td>-7.234854</td>\n",
       "      <td>-0.242405</td>\n",
       "      <td>-0.080216</td>\n",
       "    </tr>\n",
       "    <tr>\n",
       "      <th>2014-01-06</th>\n",
       "      <td>-8.629855</td>\n",
       "      <td>-7.164994</td>\n",
       "      <td>-0.235778</td>\n",
       "      <td>-0.086702</td>\n",
       "    </tr>\n",
       "    <tr>\n",
       "      <th>2014-01-07</th>\n",
       "      <td>-8.918509</td>\n",
       "      <td>-7.294633</td>\n",
       "      <td>-0.257564</td>\n",
       "      <td>-0.078553</td>\n",
       "    </tr>\n",
       "    <tr>\n",
       "      <th>2014-01-08</th>\n",
       "      <td>-8.819390</td>\n",
       "      <td>-7.280791</td>\n",
       "      <td>-0.256847</td>\n",
       "      <td>-0.079520</td>\n",
       "    </tr>\n",
       "    <tr>\n",
       "      <th>...</th>\n",
       "      <td>...</td>\n",
       "      <td>...</td>\n",
       "      <td>...</td>\n",
       "      <td>...</td>\n",
       "    </tr>\n",
       "    <tr>\n",
       "      <th>2020-08-10</th>\n",
       "      <td>-12.567153</td>\n",
       "      <td>-1.902702</td>\n",
       "      <td>0.595088</td>\n",
       "      <td>0.062042</td>\n",
       "    </tr>\n",
       "    <tr>\n",
       "      <th>2020-08-11</th>\n",
       "      <td>-12.558166</td>\n",
       "      <td>-1.993857</td>\n",
       "      <td>0.567200</td>\n",
       "      <td>0.061460</td>\n",
       "    </tr>\n",
       "    <tr>\n",
       "      <th>2020-08-12</th>\n",
       "      <td>-12.566794</td>\n",
       "      <td>-1.906302</td>\n",
       "      <td>0.595952</td>\n",
       "      <td>0.061002</td>\n",
       "    </tr>\n",
       "    <tr>\n",
       "      <th>2020-08-13</th>\n",
       "      <td>-12.551216</td>\n",
       "      <td>-2.064225</td>\n",
       "      <td>0.551094</td>\n",
       "      <td>0.063104</td>\n",
       "    </tr>\n",
       "    <tr>\n",
       "      <th>2020-08-14</th>\n",
       "      <td>-12.548394</td>\n",
       "      <td>-2.092946</td>\n",
       "      <td>0.537899</td>\n",
       "      <td>0.062306</td>\n",
       "    </tr>\n",
       "  </tbody>\n",
       "</table>\n",
       "<p>1638 rows × 4 columns</p>\n",
       "</div>"
      ],
      "text/plain": [
       "                  PC0       PC1       PC2       PC3\n",
       "indice                                             \n",
       "2014-01-02  -8.533005 -7.128054 -0.224367 -0.084177\n",
       "2014-01-03  -8.723426 -7.234854 -0.242405 -0.080216\n",
       "2014-01-06  -8.629855 -7.164994 -0.235778 -0.086702\n",
       "2014-01-07  -8.918509 -7.294633 -0.257564 -0.078553\n",
       "2014-01-08  -8.819390 -7.280791 -0.256847 -0.079520\n",
       "...               ...       ...       ...       ...\n",
       "2020-08-10 -12.567153 -1.902702  0.595088  0.062042\n",
       "2020-08-11 -12.558166 -1.993857  0.567200  0.061460\n",
       "2020-08-12 -12.566794 -1.906302  0.595952  0.061002\n",
       "2020-08-13 -12.551216 -2.064225  0.551094  0.063104\n",
       "2020-08-14 -12.548394 -2.092946  0.537899  0.062306\n",
       "\n",
       "[1638 rows x 4 columns]"
      ]
     },
     "execution_count": 672,
     "metadata": {},
     "output_type": "execute_result"
    }
   ],
   "source": [
    "X_pca_petro = pca_decomp(indic_petro, thr)\n",
    "X_pca_petro"
   ]
  },
  {
   "cell_type": "code",
   "execution_count": 673,
   "metadata": {},
   "outputs": [],
   "source": [
    "str_ret_vale_petro = 'Ret_Vale_Petro'\n",
    "\n",
    "df_Ret_Vale_Petro = pd.read_csv(filepath_or_buffer = str_dir + str_ret_vale_petro + '.csv', sep=';')\n",
    "df_Ret_Vale_Petro.index = df_Ret_Vale_Petro['Data']\n",
    "df_Ret_Vale_Petro = df_Ret_Vale_Petro.drop(columns=['Data'])\n",
    "df_Ret_Vale_Petro = df_Ret_Vale_Petro.dropna()\n",
    "\n",
    "df_Ret_Vale_Petro['indice']=np.zeros(len(df_Ret_Vale_Petro.index))\n",
    "\n",
    "for x in range(0,len(df_Ret_Vale_Petro.index)):\n",
    "    df_Ret_Vale_Petro.iloc[x,5] = datetime.datetime(df_Ret_Vale_Petro.iloc[x,2],df_Ret_Vale_Petro.iloc[x,1], df_Ret_Vale_Petro.iloc[x,0])\n",
    "    \n",
    "df_Ret_Vale_Petro = df_Ret_Vale_Petro.drop(columns=['Date', 'Month', 'Year'])\n",
    "df_Ret_Vale_Petro.index = df_Ret_Vale_Petro['indice']\n",
    "df_Ret_Vale_Petro = df_Ret_Vale_Petro.drop(columns=['indice'])"
   ]
  },
  {
   "cell_type": "code",
   "execution_count": 674,
   "metadata": {},
   "outputs": [],
   "source": [
    "str_w_vale_petro = 'Vale_Petro_W'\n",
    "\n",
    "df_vale_petro_w = pd.read_csv(filepath_or_buffer = str_dir + str_w_vale_petro + '.csv', sep=';')\n",
    "df_vale_petro_w.index = df_vale_petro_w['Data']\n",
    "df_vale_petro_w = df_vale_petro_w.drop(columns=['Data'])\n",
    "df_vale_petro_w = df_vale_petro_w.dropna()\n",
    "\n",
    "df_vale_petro_w['indice']=np.zeros(len(df_vale_petro_w.index))\n",
    "\n",
    "for x in range(0,len(df_vale_petro_w.index)):\n",
    "    df_vale_petro_w.iloc[x,5] = datetime.datetime(df_vale_petro_w.iloc[x,2],df_vale_petro_w.iloc[x,1], df_vale_petro_w.iloc[x,0])\n",
    "    \n",
    "\n",
    "df_vale_petro_w = df_vale_petro_w.drop(columns=['Date', 'Month', 'Year'])\n",
    "df_vale_petro_w.index = df_vale_petro_w['indice']\n",
    "df_vale_petro_w = df_vale_petro_w.drop(columns=['indice'])"
   ]
  },
  {
   "cell_type": "code",
   "execution_count": 675,
   "metadata": {},
   "outputs": [
    {
     "name": "stdout",
     "output_type": "stream",
     "text": [
      "           Ret VALE3  Ret PETR4\n",
      "Ret VALE3   0.239074   0.130047\n",
      "Ret PETR4   0.130047   0.304022\n"
     ]
    }
   ],
   "source": [
    "mu = np.mean(df_Ret_Vale_Petro)*252\n",
    "\n",
    "cov = df_Ret_Vale_Petro.cov()*252\n",
    "print(cov)\n"
   ]
  },
  {
   "cell_type": "code",
   "execution_count": 676,
   "metadata": {},
   "outputs": [],
   "source": [
    "N_t = len(df_Ret_Vale_Petro.columns)"
   ]
  },
  {
   "cell_type": "code",
   "execution_count": 680,
   "metadata": {},
   "outputs": [
    {
     "data": {
      "text/plain": [
       "(4,)"
      ]
     },
     "execution_count": 680,
     "metadata": {},
     "output_type": "execute_result"
    }
   ],
   "source": [
    "theta = np.zeros(4)\n",
    "theta.shape"
   ]
  },
  {
   "cell_type": "code",
   "execution_count": 686,
   "metadata": {},
   "outputs": [
    {
     "data": {
      "text/plain": [
       "(4, 2)"
      ]
     },
     "execution_count": 686,
     "metadata": {},
     "output_type": "execute_result"
    }
   ],
   "source": [
    "x_t = np.array(pd.concat([X_pca_vale.iloc[0,:], X_pca_petro.iloc[0,:]], axis=1))\n",
    "x_t.shape"
   ]
  },
  {
   "cell_type": "code",
   "execution_count": 687,
   "metadata": {},
   "outputs": [
    {
     "data": {
      "text/plain": [
       "array([0.5, 0.5])"
      ]
     },
     "execution_count": 687,
     "metadata": {},
     "output_type": "execute_result"
    }
   ],
   "source": [
    "np.array(df_vale_petro_w.iloc[0,:])+((1/N_t)*(theta).dot(x_t))"
   ]
  },
  {
   "cell_type": "code",
   "execution_count": 688,
   "metadata": {},
   "outputs": [
    {
     "data": {
      "text/plain": [
       "array([0., 0.])"
      ]
     },
     "execution_count": 688,
     "metadata": {},
     "output_type": "execute_result"
    }
   ],
   "source": [
    "(1/N_t)*(theta).dot(x_t)"
   ]
  },
  {
   "cell_type": "code",
   "execution_count": 689,
   "metadata": {},
   "outputs": [
    {
     "data": {
      "text/plain": [
       "array([0.5, 0.5])"
      ]
     },
     "execution_count": 689,
     "metadata": {},
     "output_type": "execute_result"
    }
   ],
   "source": [
    "a = np.array(df_vale_petro_w.iloc[0,:])\n",
    "a"
   ]
  },
  {
   "cell_type": "code",
   "execution_count": 690,
   "metadata": {},
   "outputs": [
    {
     "data": {
      "text/plain": [
       "0.20079757772184326"
      ]
     },
     "execution_count": 690,
     "metadata": {},
     "output_type": "execute_result"
    }
   ],
   "source": [
    "(w_barra + (1/N_t)*(theta).dot(x_t)).dot(cov).dot((w_barra + (1/N_t)*(theta).dot(x_t)))"
   ]
  },
  {
   "cell_type": "code",
   "execution_count": 691,
   "metadata": {},
   "outputs": [
    {
     "data": {
      "text/plain": [
       "0.0"
      ]
     },
     "execution_count": 691,
     "metadata": {},
     "output_type": "execute_result"
    }
   ],
   "source": [
    "w_barra = np.array(df_vale_petro_w.iloc[0,:])\n",
    "(w_barra + (1/N_t)*(theta).dot(x_t)).sum() - 1"
   ]
  },
  {
   "cell_type": "code",
   "execution_count": 692,
   "metadata": {},
   "outputs": [
    {
     "data": {
      "text/plain": [
       "0.08325606323076909"
      ]
     },
     "execution_count": 692,
     "metadata": {},
     "output_type": "execute_result"
    }
   ],
   "source": [
    "mu.max()"
   ]
  },
  {
   "cell_type": "code",
   "execution_count": 705,
   "metadata": {},
   "outputs": [],
   "source": [
    "def get_port(rp,mu,cov):\n",
    "    \n",
    "    theta0 = np.zeros(X_pca_vale.shape[1])\n",
    "    \n",
    "    x_t = np.array(pd.concat([X_pca_vale.iloc[0,:], X_pca_petro.iloc[0,:]], axis=1))\n",
    "    \n",
    "    w_barra = np.array(df_vale_petro_w.iloc[0,:])\n",
    "    \n",
    "    mean_variance = lambda theta : (w_barra + (1/N_t)*(theta).dot(x_t)).dot(cov).dot((w_barra + (1/N_t)*(theta).dot(x_t)))\n",
    "    \n",
    "    eq_cons = ({'type': 'eq', 'fun': lambda theta: (w_barra + (1/N_t)*(theta).dot(x_t)).sum() - 1},\n",
    "               {'type': 'eq', 'fun': lambda theta: (w_barra + (1/N_t)*(theta).dot(x_t)).dot(np.array(mu)) - rp})\n",
    "    \n",
    "    res = opt.minimize(mean_variance, theta0, method='SLSQP', constraints = eq_cons)\n",
    "    \n",
    "    theta = pd.Series(data=res.x)\n",
    "    \n",
    "    w = w_barra + (1/N_t)*(theta).dot(x_t)\n",
    "\n",
    "    return w, np.sqrt(res.fun)"
   ]
  },
  {
   "cell_type": "code",
   "execution_count": 706,
   "metadata": {},
   "outputs": [],
   "source": [
    "rp = 0.06\n",
    "theta0 = np.zeros(4)\n",
    "    \n",
    "x_t = np.array(pd.concat([X_pca_vale.iloc[0,:], X_pca_petro.iloc[0,:]], axis=1))\n",
    "    \n",
    "w_barra = np.array(df_vale_petro_w.iloc[0,:])\n",
    "    \n",
    "mean_variance = lambda theta : (w_barra + (1/N_t)*(theta).dot(x_t)).dot(cov).dot((w_barra + (1/N_t)*(theta).dot(x_t)))\n",
    "    \n",
    "eq_cons = ({'type': 'eq', 'fun': lambda theta: (w_barra + (1/N_t)*(theta).dot(x_t)).sum() - 1},\n",
    "               {'type': 'eq', 'fun': lambda theta: (w_barra + (1/N_t)*(theta).dot(x_t)).dot(np.array(mu)) - rp})\n",
    "    \n",
    "res = opt.minimize(mean_variance, theta0, method='SLSQP', constraints = eq_cons)"
   ]
  },
  {
   "cell_type": "code",
   "execution_count": 707,
   "metadata": {},
   "outputs": [
    {
     "data": {
      "text/plain": [
       "     fun: 0.20845803654150424\n",
       "     jac: array([ 2.34070806e+02, -1.61196020e+00,  2.15271749e-02,  6.38621673e-03])\n",
       " message: 'Optimization terminated successfully.'\n",
       "    nfev: 19\n",
       "     nit: 3\n",
       "    njev: 3\n",
       "  status: 0\n",
       " success: True\n",
       "       x: array([-0.00012296, -0.02391128, -0.00074292, -0.00027897])"
      ]
     },
     "execution_count": 707,
     "metadata": {},
     "output_type": "execute_result"
    }
   ],
   "source": [
    "res"
   ]
  },
  {
   "cell_type": "code",
   "execution_count": 708,
   "metadata": {},
   "outputs": [
    {
     "data": {
      "text/plain": [
       "0.4481044272508845"
      ]
     },
     "execution_count": 708,
     "metadata": {},
     "output_type": "execute_result"
    }
   ],
   "source": [
    "np.sqrt((w_barra + (1/N_t)*(theta).dot(x_t)).dot(cov).dot((w_barra + (1/N_t)*(theta).dot(x_t))))"
   ]
  },
  {
   "cell_type": "code",
   "execution_count": 709,
   "metadata": {},
   "outputs": [
    {
     "name": "stderr",
     "output_type": "stream",
     "text": [
      "C:\\Users\\nelly\\anaconda3\\lib\\site-packages\\ipykernel_launcher.py:2: DeprecationWarning: The default dtype for empty Series will be 'object' instead of 'float64' in a future version. Specify a dtype explicitly to silence this warning.\n",
      "  \n"
     ]
    },
    {
     "name": "stdout",
     "output_type": "stream",
     "text": [
      "0.9891755016731619\n",
      "0.8917577035790565\n",
      "0.7977729312349717\n",
      "0.7085885427203025\n",
      "0.6262587496933308\n",
      "0.5538488458273637\n",
      "0.4957250165199938\n",
      "0.45736666294146594\n",
      "0.4439273148942788\n",
      "0.4576077815770573\n",
      "0.4961698570749308\n",
      "0.5544460284709917\n",
      "0.6269629091634371\n",
      "0.7093664863985881\n",
      "0.7986021238652853\n",
      "0.892623169590881\n",
      "0.9900672256825361\n",
      "1.090016665076549\n",
      "1.1918413442928792\n",
      "1.2950990160208973\n",
      "1.3994725277449511\n",
      "1.504729689100944\n",
      "1.6106972909300938\n",
      "1.7172438106842192\n",
      "1.8242678281938498\n"
     ]
    },
    {
     "data": {
      "image/png": "[encoded data removed]",
      "text/plain": [
       "<Figure size 1080x720 with 1 Axes>"
      ]
     },
     "metadata": {
      "needs_background": "light"
     },
     "output_type": "display_data"
    }
   ],
   "source": [
    "weights_df = pd.DataFrame()\n",
    "frontier = pd.Series()\n",
    "\n",
    "for rp in np.linspace(0.002, 0.20, 25):\n",
    "    w, s = get_port(rp,mu,cov)\n",
    "    print(s)\n",
    "    weights_df = weights_df.append(pd.DataFrame(w.T))\n",
    "    frontier[s] = rp\n",
    "    \n",
    "frontier.plot(figsize=(15,10))\n",
    "plt.title('Efficient Frontier',fontsize=18)\n",
    "plt.ylabel('Target return',fontsize=18)\n",
    "plt.xlabel('Target volatility',fontsize=18)\n",
    "plt.show()"
   ]
  },
  {
   "cell_type": "code",
   "execution_count": null,
   "metadata": {},
   "outputs": [],
   "source": []
  }
 ],
 "metadata": {
  "kernelspec": {
   "display_name": "Python 3",
   "language": "python",
   "name": "python3"
  },
  "language_info": {
   "codemirror_mode": {
    "name": "ipython",
    "version": 3
   },
   "file_extension": ".py",
   "mimetype": "text/x-python",
   "name": "python",
   "nbconvert_exporter": "python",
   "pygments_lexer": "ipython3",
   "version": "3.7.6"
  }
 },
 "nbformat": 4,
 "nbformat_minor": 4
}
