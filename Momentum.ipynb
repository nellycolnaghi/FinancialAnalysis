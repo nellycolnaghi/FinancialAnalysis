{
 "cells": [
  {
   "cell_type": "markdown",
   "metadata": {},
   "source": [
    "# Momentum Strategy    "
   ]
  },
  {
   "cell_type": "code",
   "execution_count": 1,
   "metadata": {},
   "outputs": [],
   "source": [
    "#-----------------------------------------------------------------------------\n",
    "# Imports libraries, defines variables and load the returns\n",
    "#-----------------------------------------------------------------------------\n",
    "\n",
    "# Imports libraries\n",
    "import numpy as np\n",
    "import pandas as pd\n",
    "import datetime\n",
    "import seaborn as sns\n",
    "\n",
    "# Historical returns window and rebalancing window\n",
    "janela_retornos = 252\n",
    "janela_rebal = 126\n",
    "custo = 0.01\n",
    "\n",
    "# File path\n",
    "str_dir = 'C:/Users/nelly/Desktop/Mestrado Insper/DISSERTAÇÃO/Dissertação/1. Modelo/'\n",
    "\n",
    "str_Retornos = 'Retornos'\n",
    "    \n",
    "df_Retornos = pd.read_csv(filepath_or_buffer = str_dir + str_Retornos + '.csv', sep=';')\n",
    "df_Retornos.index = df_Retornos['Data']\n",
    "df_Retornos = df_Retornos.drop(columns=['Data'])\n",
    "df_Retornos = df_Retornos.dropna()\n",
    "    \n",
    "df_Retornos['indice']=np.zeros(len(df_Retornos.index))"
   ]
  },
  {
   "cell_type": "code",
   "execution_count": 2,
   "metadata": {},
   "outputs": [
    {
     "data": {
      "image/png": "[encoded data removed]",
      "text/plain": [
       "<Figure size 432x288 with 1 Axes>"
      ]
     },
     "metadata": {
      "needs_background": "light"
     },
     "output_type": "display_data"
    }
   ],
   "source": [
    "#-----------------------------------------------------------------------------\n",
    "# Adjusts the dates formats and computes portfolio returns\n",
    "#-----------------------------------------------------------------------------\n",
    "\n",
    "# Adjusts the dates formats\n",
    "\n",
    "for x in range(0,len(df_Retornos.index)):\n",
    "    df_Retornos.iloc[x,len(df_Retornos.columns)-1] = datetime.datetime(df_Retornos.iloc[x,2],df_Retornos.iloc[x,1], df_Retornos.iloc[x,0])\n",
    "    \n",
    "df_Retornos = df_Retornos.drop(columns=['Day', 'Month', 'Year'])\n",
    "df_Retornos.index = df_Retornos['indice']\n",
    "df_Retornos = df_Retornos.drop(columns=['indice'])\n",
    "\n",
    "# Computes portfolio returns\n",
    "\n",
    "n_stocks_total = len(df_Retornos.columns)\n",
    "n_stocks_port = 10\n",
    "df_Retornos_rol = df_Retornos.rolling(janela_retornos).sum().dropna()\n",
    "df_Retornos_rol_rank = df_Retornos_rol.rank(axis = 1)\n",
    "df_ones = pd.DataFrame(data = np.ones([df_Retornos_rol_rank.shape[0], df_Retornos_rol_rank.shape[1]]),\n",
    "                       index = df_Retornos_rol_rank.index, columns = df_Retornos_rol.columns)\n",
    "df_weights = (1)*df_ones[df_Retornos_rol_rank>=(n_stocks_total-n_stocks_port)].fillna(0) + \\\n",
    "        (-1)*df_ones[df_Retornos_rol_rank<=n_stocks_port].fillna(0)\n",
    "df_weights = df_weights * (1/n_stocks_port)\n",
    "t = 0\n",
    "T = len(df_Retornos_rol)\n",
    "df_weights_rebal = pd.DataFrame()\n",
    "while t <= T:\n",
    "    df_weights_aux = pd.DataFrame(data = df_weights.iloc[t,:])\n",
    "    df_weights_aux = pd.concat([df_weights_aux.T]*np.min([janela_rebal, T-t]), axis = 0)\n",
    "    df_weights_rebal = pd.concat([df_weights_rebal, df_weights_aux], axis = 0)\n",
    "    t = t + janela_rebal\n",
    "df_weights_rebal.index = df_weights.index\n",
    "\n",
    "df_Retornos_momentum_disc = np.exp(df_Retornos[df_Retornos.index.isin(df_weights_rebal.index)])-1\n",
    "\n",
    "df_ret_port_momentum = np.array(df_weights_rebal.iloc[:-1,:]) * np.array(df_Retornos_momentum_disc.iloc[1:,:])\n",
    "df_ret_port_momentum = pd.DataFrame(data = df_ret_port_momentum).sum(axis=1)\n",
    "str_index = df_Retornos_momentum_disc.iloc[1:,:].index\n",
    "df_ret_port_momentum = np.array(df_ret_port_momentum) - np.array(np.abs(df_weights_rebal.diff(1)).dropna().sum(axis=1)*custo)\n",
    "df_ret_port_momentum = pd.Series(data = df_ret_port_momentum, index = str_index)\n",
    "\n",
    "df_ret_port_momentum = np.log(1+df_ret_port_momentum)\n",
    "\n",
    "sns.lineplot(data = df_ret_port_momentum.cumsum())\n",
    "\n",
    "df_ret_port_momentum.to_csv(str_dir + 'MOMENTUM.csv')\n"
   ]
  },
  {
   "cell_type": "code",
   "execution_count": null,
   "metadata": {},
   "outputs": [],
   "source": []
  }
 ],
 "metadata": {
  "kernelspec": {
   "display_name": "Python 3",
   "language": "python",
   "name": "python3"
  },
  "language_info": {
   "codemirror_mode": {
    "name": "ipython",
    "version": 3
   },
   "file_extension": ".py",
   "mimetype": "text/x-python",
   "name": "python",
   "nbconvert_exporter": "python",
   "pygments_lexer": "ipython3",
   "version": "3.7.6"
  }
 },
 "nbformat": 4,
 "nbformat_minor": 4
}
